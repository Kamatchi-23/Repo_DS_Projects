{
 "cells": [
  {
   "cell_type": "markdown",
   "metadata": {},
   "source": [
    "# <center>PGP Data Science Engineering</center>\n",
    "## <center>Introduction to Programming – Mini Project:</center>\n"
   ]
  },
  {
   "cell_type": "markdown",
   "metadata": {},
   "source": [
    "### Problem 1:\n",
    "\n",
    "1. Write a program to calculate area of shapes. Your program should be capable of calculating the area of a square, rectangle, triangle and a circle. The user should be presented with options to select the shape. Based on which shape is chosed by the user, the program should ask for the appropriate input and print the resulting area on the screen.\n",
    "\n",
    "When the program is run, the screen should display something like this:\n",
    "\n",
    "**Which shape would you like to calculate the area for? Please enter the option number-**<br>\n",
    "**1. Square**<br>\n",
    "**2. Rectangle**<br>\n",
    "**3. Triangle**<br>\n",
    "**4. Circle**<br>\n",
    "**Enter Option: _**\n",
    "\n",
    "Say the user enters the option 1.\n",
    "\n",
    "**Please enter the length of a side: _**\n",
    "\n",
    "If the user enters a value of 5. The output should be:\n",
    "\n",
    "**The area of the square is 25**\n",
    "\n",
    "This program should indicate that the input is invalid if the user enters a character instead of a number as input. For instance if the user enters a value of ‘a’ instead of 5 in the previous example the program should prompt:\n",
    "\n",
    "**Invalid input, please enter a number: _**\n"
   ]
  },
  {
   "cell_type": "markdown",
   "metadata": {},
   "source": [
    "#The below program has been written assuming that it should be able to provide the area of a shape(chosen by user) only once per execution"
   ]
  },
  {
   "cell_type": "code",
   "execution_count": 5,
   "metadata": {},
   "outputs": [
    {
     "name": "stdout",
     "output_type": "stream",
     "text": [
      "Which shape would you like to calculate the area for? Please enter the option number- \n",
      "1. Square\n",
      "2. Rectangle\n",
      "3. Triangle\n",
      "4. Circle\n",
      "Enter Option:3\n",
      "Please enter base: t\n",
      "Invalid input. Please enter a number for base/breadth: 6\n",
      "Please enter height: j\n",
      "Invalid input. Please enter a number for height/length: l\n",
      "Invalid input. Please enter a number for height/length: 7\n",
      "The area of triangle is 147.0\n"
     ]
    }
   ],
   "source": [
    "import math as m\n",
    "import string as si\n",
    "\n",
    "option=input(\"Which shape would you like to calculate the area for? Please enter the option number- \\n1. Square\\n2. Rectangle\\n3. Triangle\\n4. Circle\\nEnter Option:\")\n",
    "\n",
    "\n",
    "menu_options_1={1.:\"Please enter the length of side:\",4.:\"Please enter the radius of circle:\"}\n",
    "menu_options_2={2.: {\"B\": \"Please enter breadth: \",\"L\":\"Please enter length: \"},3:{\"B\":\"Please enter base: \",\"L\":\"Please enter height: \"}} \n",
    "\n",
    "\n",
    "sq=lambda x:round(x**2,2)\n",
    "ci=lambda x:round(m.pi*x**2,2)\n",
    "rec=lambda x,y:round(x*y,2)\n",
    "tri=lambda x,y:round(0.5*x*(y**2),2)\n",
    "     \n",
    "while True:  \n",
    "       \n",
    "    if float(option) in menu_options_1.keys():\n",
    "        s=input(menu_options_1.get(float(option)))\n",
    "        while s not in si.digits:         \n",
    "            s=input(\"Invalid input. Please enter a number: \")\n",
    "        area_find_1={1.: (\"The area of square is \",str(sq(float(s)))),4.:(\"The area of circle is \",str(ci(float(s))))}\n",
    "        print(\"\".join(area_find_1.get(float(option))))\n",
    "        break\n",
    "        \n",
    "    if float(option) in menu_options_2.keys():\n",
    "        b=input(menu_options_2[float(option)][\"B\"])\n",
    "        while b not in si.digits: \n",
    "            b=input(\"Invalid input. Please enter a number for base/breadth: \")\n",
    "        l=input(menu_options_2[float(option)][\"L\"])\n",
    "        while l not in si.digits:\n",
    "            l=input(\"Invalid input. Please enter a number for height/length: \")            \n",
    "        area_find_2={2.: (\"The area of rectangle is \",str(rec(float(b),float(l)))),3.:(\"The area of triangle is \",str(tri(float(b),float(l))))}\n",
    "        print(\"\".join(area_find_2.get(float(option))))   \n",
    "        break\n",
    "    \n",
    "    else:\n",
    "        option=input(\"Invalid input, please enter the given option number:\")\n",
    "        continue\n",
    "        "
   ]
  },
  {
   "cell_type": "markdown",
   "metadata": {},
   "source": [
    "### Problem 2:\n",
    "\n",
    "Create and encrypter in python based on the ceaser cipher. It is a substitution cipher where each character of the original text is shifted a certain number characters in the alphabet. Write a function that would require 2 arguments – the input text to be encrypted and a key. For eg: Given the input text ‘hello’ and the key 3, the resulting encryted text would be ‘khoor’. Here you can see that every character in the string hello is shifted by 3 characters. ‘h’ has shifted to ‘k’, ‘e’ has shifted to ‘h’ and so on. If a key of 5 were used, the resulting string would be ‘mjqqt’. This function should be capable of ignoring any characters which are not alphabets. Th2 character ‘z’ entered b\n",
    "y the user for a key of 3 would result in ‘c’.\n",
    "\n",
    "Usage:<br>\n",
    "**encrypt(‘hello world!’, 3)**<br>\n",
    "**‘khoor zruog!’**\n",
    "\n",
    "Similarly create decrypter which can decode the encryted text when provided the input text and key\n",
    "\n",
    "Usage:<br>\n",
    "**decrypt(‘khoor zruog!’, 3)**<br>\n",
    "**‘hello world!’**\n",
    "\n",
    "For the sake of simplicity you can assume that input solely consists of lowercase alphabets, spaces and punctuation symbols. Numbers in the input text would also be ignored similar to symbols."
   ]
  },
  {
   "cell_type": "markdown",
   "metadata": {},
   "source": [
    "#### The below program assumes that the same key value is used for both encryption & decryption"
   ]
  },
  {
   "cell_type": "code",
   "execution_count": 2,
   "metadata": {},
   "outputs": [
    {
     "name": "stdout",
     "output_type": "stream",
     "text": [
      "Enter a string to be encrypted:hello world!!123\n",
      "Enter a key:2\n",
      "jgnnq yqtnf!!123\n",
      "Enter a string to be decrypted:jgnnq yqtnf!!123\n",
      "hello world!!123\n"
     ]
    }
   ],
   "source": [
    "import string as s\n",
    "string_in=input(\"Enter a string to be encrypted:\")\n",
    "keyy=int(input(\"Enter a key:\"))\n",
    "j=list(s.ascii_lowercase)\n",
    "#Function for encryption\n",
    "def encrypt(stringg,k):\n",
    "    st,l=\"\",[]\n",
    "    for i in stringg:\n",
    "        if i in s.ascii_lowercase:  \n",
    "            h=(j.index(i)+k)%26 \n",
    "            l.append(j[h])\n",
    "        if i in s.punctuation or i in s.digits or i in i in s.whitespace:\n",
    "            l.append(i)  \n",
    "    st=\"\".join(l)\n",
    "    return st\n",
    "#Function for decryption\n",
    "def decrypt(stringg,k):\n",
    "    l,dt=[],\"\"\n",
    "    for i in stringg:\n",
    "        if i in j:\n",
    "            h=(j.index(i)-k)%26\n",
    "            l.append(j[h])\n",
    "        if i in s.punctuation or i in s.digits or i in s.whitespace:\n",
    "            l.append(i)\n",
    "    dt=\"\".join(l)\n",
    "    return dt\n",
    "\n",
    "print(encrypt(string_in,keyy))\n",
    "\n",
    "string_inn=input(\"Enter a string to be decrypted:\")\n",
    "print(decrypt(string_inn,keyy))\n",
    "\n"
   ]
  },
  {
   "cell_type": "code",
   "execution_count": null,
   "metadata": {},
   "outputs": [],
   "source": []
  },
  {
   "cell_type": "code",
   "execution_count": null,
   "metadata": {},
   "outputs": [],
   "source": []
  }
 ],
 "metadata": {
  "kernelspec": {
   "display_name": "Python 3",
   "language": "python",
   "name": "python3"
  },
  "language_info": {
   "codemirror_mode": {
    "name": "ipython",
    "version": 3
   },
   "file_extension": ".py",
   "mimetype": "text/x-python",
   "name": "python",
   "nbconvert_exporter": "python",
   "pygments_lexer": "ipython3",
   "version": "3.7.4"
  }
 },
 "nbformat": 4,
 "nbformat_minor": 2
}
